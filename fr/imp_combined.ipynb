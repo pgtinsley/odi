{
 "cells": [
  {
   "cell_type": "code",
   "execution_count": 1,
   "metadata": {},
   "outputs": [],
   "source": [
    "import pickle\n",
    "import numpy as np\n",
    "import face_recognition\n",
    "from scipy import stats\n",
    "import matplotlib.pyplot as plt"
   ]
  },
  {
   "cell_type": "code",
   "execution_count": 2,
   "metadata": {},
   "outputs": [],
   "source": [
    "with open('./__real_encodings.pkl', 'rb') as f:\n",
    "    real_encodings_dict = pickle.load(f)\n",
    "with open('./__generated_encodings.pkl', 'rb') as f2:\n",
    "    generated_encodings_dict = pickle.load(f2)"
   ]
  },
  {
   "cell_type": "code",
   "execution_count": 3,
   "metadata": {},
   "outputs": [],
   "source": [
    "real_encodings_list = []\n",
    "for i, d in real_encodings_dict.items():\n",
    "    real_encodings_list.append(d['enc'])"
   ]
  },
  {
   "cell_type": "code",
   "execution_count": 4,
   "metadata": {},
   "outputs": [],
   "source": [
    "generated_encodings_list = []\n",
    "for i, d in generated_encodings_dict.items():\n",
    "    generated_encodings_list.append(d['enc'])"
   ]
  },
  {
   "cell_type": "code",
   "execution_count": 14,
   "metadata": {},
   "outputs": [],
   "source": [
    "dist_mat_imp1 = []\n",
    "for enc in real_encodings_list:    \n",
    "    # dist_mat.append(face_recognition.face_distance(real, enc))\n",
    "    dist_mat_imp1.append(face_recognition.face_distance(generated_encodings_list, enc))"
   ]
  },
  {
   "cell_type": "code",
   "execution_count": 32,
   "metadata": {},
   "outputs": [],
   "source": [
    "dist_list_imp1 =  []\n",
    "for i, arr in enumerate(dist_mat_imp1):\n",
    "    for e in arr[:i]:\n",
    "#     for e in arr[:i+1]:\n",
    "        dist_list_imp1.append(e)"
   ]
  },
  {
   "cell_type": "code",
   "execution_count": 29,
   "metadata": {},
   "outputs": [],
   "source": [
    "dist_mat_imp2 = []\n",
    "for enc in real_encodings_list:    \n",
    "    dist_mat_imp2.append(face_recognition.face_distance(real_encodings_list, enc))\n",
    "    # dist_mat_imp1.append(face_recognition.face_distance(generated_encodings_list, enc))"
   ]
  },
  {
   "cell_type": "code",
   "execution_count": 30,
   "metadata": {},
   "outputs": [],
   "source": [
    "dist_list_imp2 =  []\n",
    "for i, arr in enumerate(dist_mat_imp2):\n",
    "    for e in arr[:i]:\n",
    "        dist_list_imp2.append(e)"
   ]
  },
  {
   "cell_type": "code",
   "execution_count": 37,
   "metadata": {},
   "outputs": [
    {
     "data": {
      "image/png": "[encoded data removed]",
      "text/plain": [
       "<Figure size 720x504 with 1 Axes>"
      ]
     },
     "metadata": {},
     "output_type": "display_data"
    }
   ],
   "source": [
    "plt.figure(figsize=(10,7), facecolor='white')\n",
    "plt.title('Impostor Distributions')\n",
    "plt.hist(dist_list_imp1, bins='auto', color='red', alpha=0.5, label='real vs. generated')\n",
    "plt.hist(dist_list_imp2, bins='auto', color='blue', alpha=0.5, label='real vs. real')\n",
    "plt.xlabel('Distance between Face Encodings')\n",
    "plt.ylabel('Count')\n",
    "plt.legend()\n",
    "plt.show()"
   ]
  },
  {
   "cell_type": "code",
   "execution_count": 46,
   "metadata": {
    "scrolled": true
   },
   "outputs": [
    {
     "data": {
      "text/plain": [
       "(0.034128128128128155, 4.3274372507707633e-253)"
      ]
     },
     "execution_count": 46,
     "metadata": {},
     "output_type": "execute_result"
    }
   ],
   "source": [
    "s, p = stats.ks_2samp(dist_list_imp1, dist_list_imp2)\n",
    "s, p"
   ]
  },
  {
   "cell_type": "code",
   "execution_count": 45,
   "metadata": {},
   "outputs": [],
   "source": [
    "# null hypothesis = 2 independent samples are drawn from the same continuous distribution"
   ]
  },
  {
   "cell_type": "code",
   "execution_count": 47,
   "metadata": {},
   "outputs": [],
   "source": [
    "# p < 0.05, so we reject the null hypothesis --> data is drawn from different distributions"
   ]
  },
  {
   "cell_type": "code",
   "execution_count": null,
   "metadata": {},
   "outputs": [],
   "source": []
  }
 ],
 "metadata": {
  "kernelspec": {
   "display_name": "Python 3",
   "language": "python",
   "name": "python3"
  },
  "language_info": {
   "codemirror_mode": {
    "name": "ipython",
    "version": 3
   },
   "file_extension": ".py",
   "mimetype": "text/x-python",
   "name": "python",
   "nbconvert_exporter": "python",
   "pygments_lexer": "ipython3",
   "version": "3.8.1"
  }
 },
 "nbformat": 4,
 "nbformat_minor": 4
}
