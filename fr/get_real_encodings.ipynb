{
 "cells": [
  {
   "cell_type": "code",
   "execution_count": null,
   "metadata": {},
   "outputs": [],
   "source": [
    "import glob\n",
    "import pickle\n",
    "import face_recognition"
   ]
  },
  {
   "cell_type": "code",
   "execution_count": null,
   "metadata": {},
   "outputs": [],
   "source": [
    "real_70000 = glob.glob('../real_70000_ffhq/*.png')\n",
    "generated_1200 = glob.glob('../generated_1200_sg2/*.png')"
   ]
  },
  {
   "cell_type": "code",
   "execution_count": null,
   "metadata": {},
   "outputs": [],
   "source": [
    "len(real_70000), len(generated_1200)"
   ]
  },
  {
   "cell_type": "code",
   "execution_count": null,
   "metadata": {},
   "outputs": [],
   "source": [
    "# get 1000 encodings from real_70000\n",
    "real_encodings = {}\n",
    "counter = 0\n",
    "for i, fname in enumerate(real_70000):\n",
    "    print(f'{i}/999')\n",
    "    encs = face_recognition.face_encodings(\n",
    "        face_recognition.load_image_file(fname)\n",
    "    )\n",
    "    if len(encs) > 0: \n",
    "        real_encodings[counter] = {\n",
    "            'fname_generated_1000': fname.split('/')[-1],\n",
    "            'enc': encs[0]\n",
    "        }\n",
    "        counter += 1\n",
    "    else: print(f'Skipped at {i}')\n",
    "    if counter==999: break"
   ]
  },
  {
   "cell_type": "code",
   "execution_count": null,
   "metadata": {},
   "outputs": [],
   "source": [
    "with open('real_encodings.pkl', 'wb') as f:\n",
    "    pickle.dump(real_encodings, f)"
   ]
  }
 ],
 "metadata": {
  "kernelspec": {
   "display_name": "Python 3",
   "language": "python",
   "name": "python3"
  },
  "language_info": {
   "codemirror_mode": {
    "name": "ipython",
    "version": 3
   },
   "file_extension": ".py",
   "mimetype": "text/x-python",
   "name": "python",
   "nbconvert_exporter": "python",
   "pygments_lexer": "ipython3",
   "version": "3.8.1"
  }
 },
 "nbformat": 4,
 "nbformat_minor": 2
}
